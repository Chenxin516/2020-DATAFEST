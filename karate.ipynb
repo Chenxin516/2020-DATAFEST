{
 "cells": [
  {
   "cell_type": "code",
   "execution_count": 2,
   "metadata": {},
   "outputs": [],
   "source": [
    "import numpy as np\n",
    "import pandas as pd"
   ]
  },
  {
   "cell_type": "code",
   "execution_count": 175,
   "metadata": {},
   "outputs": [],
   "source": [
    "df = pd.read_csv(r\"C:\\Users\\Jieyi\\Downloads\\increase.csv\")"
   ]
  },
  {
   "cell_type": "code",
   "execution_count": 168,
   "metadata": {},
   "outputs": [],
   "source": [
    "df_see = pd.read_csv(r\"C:\\Users\\Jieyi\\Downloads\\increase.csv\")"
   ]
  },
  {
   "cell_type": "code",
   "execution_count": null,
   "metadata": {},
   "outputs": [],
   "source": [
    "df2 = pd.read_csv(r\"C:\\Users\\Jieyi\\Downloads\\increase50.csv\")"
   ]
  },
  {
   "cell_type": "code",
   "execution_count": 8,
   "metadata": {},
   "outputs": [
    {
     "data": {
      "text/plain": [
       "(35, 10)"
      ]
     },
     "execution_count": 8,
     "metadata": {},
     "output_type": "execute_result"
    }
   ],
   "source": [
    "df[df[\"percentage_change\"]>=10].shape"
   ]
  },
  {
   "cell_type": "code",
   "execution_count": 16,
   "metadata": {},
   "outputs": [
    {
     "data": {
      "text/plain": [
       "(45, 10)"
      ]
     },
     "execution_count": 16,
     "metadata": {},
     "output_type": "execute_result"
    }
   ],
   "source": [
    "df.loc[(df[\"percentage_change\"] < 10).values & (df[\"percentage_change\"] >= 5).values].shape"
   ]
  },
  {
   "cell_type": "code",
   "execution_count": 22,
   "metadata": {},
   "outputs": [
    {
     "data": {
      "text/plain": [
       "(158, 10)"
      ]
     },
     "execution_count": 22,
     "metadata": {},
     "output_type": "execute_result"
    }
   ],
   "source": [
    "df.loc[(df[\"percentage_change\"] < 5).values & (df[\"percentage_change\"] >= 2).values].shape"
   ]
  },
  {
   "cell_type": "code",
   "execution_count": null,
   "metadata": {},
   "outputs": [],
   "source": [
    "df.loc[(df[\"percentage_change\"] < 5).values & (df[\"percentage_change\"] >= 2.5).values].shape"
   ]
  },
  {
   "cell_type": "code",
   "execution_count": 176,
   "metadata": {},
   "outputs": [],
   "source": [
    "category_ls = [[\"disease\", \"pandemic\", \"sick\",\"epidemiologis\",\"emerg\"],\n",
    "[\"employ\", \"work\", \"pay\", \"benefit\", \"insurance\", \"job\", \"debt\", \"labo\", \"wage\"],\n",
    "[\"med\", \"health\", \"hospitals\", \"sanitation\", \"nurse\", \"doctor\",\"care\"],\n",
    "[\"econ\", \"debt\", \"finance\", \"bankruptcy\", \"liquidation\", \"revenue\"]]"
   ]
  },
  {
   "cell_type": "code",
   "execution_count": 177,
   "metadata": {},
   "outputs": [],
   "source": [
    "themes_1 = df[\"themes\"][0:35].values\n",
    "themes_2 = df[\"themes\"][35:80].values\n",
    "themes_3 = df[\"themes\"][80:238].values\n",
    "themes_4 = df[\"themes\"][238:].values\n",
    "themes_5 = df2[\"themes\"][:450].values"
   ]
  },
  {
   "cell_type": "code",
   "execution_count": 178,
   "metadata": {},
   "outputs": [],
   "source": [
    "def count_freq(x):\n",
    "    ls = []\n",
    "    for i in category_ls:\n",
    "        num = 0\n",
    "        for j in x:\n",
    "            for k in i:\n",
    "                if k in j:\n",
    "                    num = num + 1\n",
    "                    break\n",
    "        ls.append(num)\n",
    "    return ls"
   ]
  },
  {
   "cell_type": "code",
   "execution_count": 185,
   "metadata": {},
   "outputs": [],
   "source": [
    "ls1 = np.add(count_freq(themes_1), count_freq(themes_2)).tolist()\n",
    "ls2 = np.add(count_freq(themes_3), count_freq(themes_4)).tolist()\n",
    "ls3 = count_freq(themes_5)"
   ]
  },
  {
   "cell_type": "code",
   "execution_count": 187,
   "metadata": {},
   "outputs": [],
   "source": [
    "all_ls = [ls1, ls2, ls3]"
   ]
  },
  {
   "cell_type": "code",
   "execution_count": 188,
   "metadata": {},
   "outputs": [],
   "source": [
    "bar1 = [i[0] for i in all_ls]\n",
    "bar2 = [i[1] for i in all_ls]\n",
    "bar3 = [i[2] for i in all_ls]\n",
    "bar4 = [i[3] for i in all_ls]"
   ]
  },
  {
   "cell_type": "code",
   "execution_count": 197,
   "metadata": {},
   "outputs": [
    {
     "data": {
      "image/png": "[encoded data removed]",
      "text/plain": [
       "<Figure size 432x288 with 1 Axes>"
      ]
     },
     "metadata": {
      "needs_background": "light"
     },
     "output_type": "display_data"
    },
    {
     "data": {
      "text/plain": [
       "<Figure size 864x288 with 0 Axes>"
      ]
     },
     "metadata": {},
     "output_type": "display_data"
    }
   ],
   "source": [
    "import matplotlib.pyplot as plt\n",
    "from matplotlib import rc\n",
    "import pandas as pd\n",
    "from matplotlib.pyplot import figure\n",
    " \n",
    "# Data\n",
    "r = [0,1,2]\n",
    "raw_data = {'bar1': bar1, 'bar2': bar2,'bar3': bar3,\n",
    "           'bar4': bar4}\n",
    "df = pd.DataFrame(raw_data)\n",
    " \n",
    "# From raw value to percentage\n",
    "totals = [i+j+k+l for i,j,k,l in zip(df['bar1'], df['bar2'], df['bar3'], df['bar4'])]\n",
    "Bars1 = [i / j * 100 for i,j in zip(df['bar1'], totals)]\n",
    "Bars2 = [i / j * 100 for i,j in zip(df['bar2'], totals)]\n",
    "Bars3 = [i / j * 100 for i,j in zip(df['bar3'], totals)]\n",
    "Bars4 = [i / j * 100 for i,j in zip(df['bar4'], totals)]\n",
    "\n",
    " \n",
    "# plot\n",
    "barWidth = 0.85\n",
    "names = ('500%+','100% ~ 500%','50% ~ 100%')\n",
    "# Create green Bars\n",
    "plt.bar(r, Bars1, color='mediumseagreen', edgecolor='white', width=barWidth, label = \"disease\")\n",
    "# Create orange Bars\n",
    "plt.bar(r, Bars2, bottom=Bars1, color='dodgerblue', edgecolor='white', width=barWidth, label = \"employment & benefits\")\n",
    "# Create blue Bars\n",
    "plt.bar(r, Bars3, bottom=[i+j for i,j in zip(Bars1, Bars2)], color='orange', edgecolor='white', width=barWidth,\n",
    "       label = \"health system\")\n",
    "plt.bar(r, Bars4, bottom=[i+j+k for i,j,k in zip(Bars1, Bars2, Bars3)], color='lightpink', \n",
    "        edgecolor='white', width=barWidth, label = \"economy & market\")\n",
    "\n",
    "# Add a legend\n",
    "plt.legend(loc='upper left', bbox_to_anchor=(1,1), ncol=1)\n",
    "\n",
    "# Custom x axis\n",
    "plt.xticks(r, names)\n",
    "plt.xlabel(\"composition of news in different impacted levels\")\n",
    "figure(figsize = (12,4))\n",
    " \n",
    "# Show graphic\n",
    "plt.show()\n",
    " "
   ]
  },
  {
   "cell_type": "markdown",
   "metadata": {},
   "source": [
    "## reference: \n",
    "https://python-graph-gallery.com/13-percent-stacked-barplot/"
   ]
  },
  {
   "cell_type": "code",
   "execution_count": null,
   "metadata": {},
   "outputs": [],
   "source": []
  }
 ],
 "metadata": {
  "kernelspec": {
   "display_name": "Python 3",
   "language": "python",
   "name": "python3"
  },
  "language_info": {
   "codemirror_mode": {
    "name": "ipython",
    "version": 3
   },
   "file_extension": ".py",
   "mimetype": "text/x-python",
   "name": "python",
   "nbconvert_exporter": "python",
   "pygments_lexer": "ipython3",
   "version": "3.7.4"
  }
 },
 "nbformat": 4,
 "nbformat_minor": 2
}
