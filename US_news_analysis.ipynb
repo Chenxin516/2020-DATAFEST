{
 "cells": [
  {
   "cell_type": "code",
   "execution_count": 1,
   "metadata": {},
   "outputs": [],
   "source": [
    "import numpy as np\n",
    "import pandas as pd\n",
    "import matplotlib.pyplot as plt"
   ]
  },
  {
   "cell_type": "code",
   "execution_count": 2,
   "metadata": {},
   "outputs": [],
   "source": [
    "import nltk\n",
    "from nltk.corpus import stopwords"
   ]
  },
  {
   "cell_type": "code",
   "execution_count": 3,
   "metadata": {},
   "outputs": [],
   "source": [
    "df = pd.read_csv(\"covid19_articles.csv\")"
   ]
  },
  {
   "cell_type": "code",
   "execution_count": 4,
   "metadata": {},
   "outputs": [],
   "source": [
    "df = df.drop(columns = \"Unnamed: 0\")"
   ]
  },
  {
   "cell_type": "code",
   "execution_count": 5,
   "metadata": {},
   "outputs": [
    {
     "data": {
      "text/plain": [
       "(52341, 7)"
      ]
     },
     "execution_count": 5,
     "metadata": {},
     "output_type": "execute_result"
    }
   ],
   "source": [
    "df.shape"
   ]
  },
  {
   "cell_type": "code",
   "execution_count": 6,
   "metadata": {},
   "outputs": [
    {
     "data": {
      "text/html": [
       "<div>\n",
       "<style scoped>\n",
       "    .dataframe tbody tr th:only-of-type {\n",
       "        vertical-align: middle;\n",
       "    }\n",
       "\n",
       "    .dataframe tbody tr th {\n",
       "        vertical-align: top;\n",
       "    }\n",
       "\n",
       "    .dataframe thead th {\n",
       "        text-align: right;\n",
       "    }\n",
       "</style>\n",
       "<table border=\"1\" class=\"dataframe\">\n",
       "  <thead>\n",
       "    <tr style=\"text-align: right;\">\n",
       "      <th></th>\n",
       "      <th>title</th>\n",
       "      <th>date</th>\n",
       "      <th>author</th>\n",
       "      <th>domain</th>\n",
       "      <th>url</th>\n",
       "      <th>content</th>\n",
       "      <th>topic_area</th>\n",
       "    </tr>\n",
       "  </thead>\n",
       "  <tbody>\n",
       "    <tr>\n",
       "      <th>0</th>\n",
       "      <td>China pneumonia outbreak: It's not SARS, so wh...</td>\n",
       "      <td>2020-01-06</td>\n",
       "      <td>Nectar Gan, CNN</td>\n",
       "      <td>cnn</td>\n",
       "      <td>https://www.cnn.com/2020/01/06/health/china-pn...</td>\n",
       "      <td>(CNN) Chinese health authorities have not been...</td>\n",
       "      <td>general</td>\n",
       "    </tr>\n",
       "    <tr>\n",
       "      <th>1</th>\n",
       "      <td>New virus identified as likely cause of myster...</td>\n",
       "      <td>2020-01-08</td>\n",
       "      <td>nature</td>\n",
       "      <td>nature</td>\n",
       "      <td>https://www.nature.com/articles/d41586-020-000...</td>\n",
       "      <td>Passengers arriving at Hong Kong's internation...</td>\n",
       "      <td>science</td>\n",
       "    </tr>\n",
       "    <tr>\n",
       "      <th>2</th>\n",
       "      <td>China pneumonia outbreak may be caused by Sars...</td>\n",
       "      <td>2020-01-08</td>\n",
       "      <td>Reuters</td>\n",
       "      <td>theguardian</td>\n",
       "      <td>https://www.theguardian.com/science/2020/jan/0...</td>\n",
       "      <td>A cluster of more than 50 pneumonia cases in t...</td>\n",
       "      <td>general</td>\n",
       "    </tr>\n",
       "    <tr>\n",
       "      <th>3</th>\n",
       "      <td>New SARS related virus, Wuhan pneumonia, ideni...</td>\n",
       "      <td>2020-01-09</td>\n",
       "      <td>Nectar Gan, CNN</td>\n",
       "      <td>cnn</td>\n",
       "      <td>https://www.cnn.com/2020/01/08/health/china-wu...</td>\n",
       "      <td>(CNN) A mysterious pneumonia outbreak that has...</td>\n",
       "      <td>general</td>\n",
       "    </tr>\n",
       "    <tr>\n",
       "      <th>4</th>\n",
       "      <td>China's Sars-like illness worries health exper...</td>\n",
       "      <td>2020-01-09</td>\n",
       "      <td>https://www.theguardian.com/profile/sarahboseley</td>\n",
       "      <td>theguardian</td>\n",
       "      <td>https://www.theguardian.com/world/2020/jan/09/...</td>\n",
       "      <td>The finding that the outbreak of viral pneumon...</td>\n",
       "      <td>general</td>\n",
       "    </tr>\n",
       "  </tbody>\n",
       "</table>\n",
       "</div>"
      ],
      "text/plain": [
       "                                               title        date  \\\n",
       "0  China pneumonia outbreak: It's not SARS, so wh...  2020-01-06   \n",
       "1  New virus identified as likely cause of myster...  2020-01-08   \n",
       "2  China pneumonia outbreak may be caused by Sars...  2020-01-08   \n",
       "3  New SARS related virus, Wuhan pneumonia, ideni...  2020-01-09   \n",
       "4  China's Sars-like illness worries health exper...  2020-01-09   \n",
       "\n",
       "                                             author       domain  \\\n",
       "0                                   Nectar Gan, CNN          cnn   \n",
       "1                                            nature       nature   \n",
       "2                                           Reuters  theguardian   \n",
       "3                                   Nectar Gan, CNN          cnn   \n",
       "4  https://www.theguardian.com/profile/sarahboseley  theguardian   \n",
       "\n",
       "                                                 url  \\\n",
       "0  https://www.cnn.com/2020/01/06/health/china-pn...   \n",
       "1  https://www.nature.com/articles/d41586-020-000...   \n",
       "2  https://www.theguardian.com/science/2020/jan/0...   \n",
       "3  https://www.cnn.com/2020/01/08/health/china-wu...   \n",
       "4  https://www.theguardian.com/world/2020/jan/09/...   \n",
       "\n",
       "                                             content topic_area  \n",
       "0  (CNN) Chinese health authorities have not been...    general  \n",
       "1  Passengers arriving at Hong Kong's internation...    science  \n",
       "2  A cluster of more than 50 pneumonia cases in t...    general  \n",
       "3  (CNN) A mysterious pneumonia outbreak that has...    general  \n",
       "4  The finding that the outbreak of viral pneumon...    general  "
      ]
     },
     "execution_count": 6,
     "metadata": {},
     "output_type": "execute_result"
    }
   ],
   "source": [
    "df.head()"
   ]
  },
  {
   "cell_type": "code",
   "execution_count": 7,
   "metadata": {},
   "outputs": [
    {
     "data": {
      "text/plain": [
       "(4766, 7)"
      ]
     },
     "execution_count": 7,
     "metadata": {},
     "output_type": "execute_result"
    }
   ],
   "source": [
    "df[df['domain']=='cnn'].shape"
   ]
  },
  {
   "cell_type": "code",
   "execution_count": 8,
   "metadata": {},
   "outputs": [
    {
     "data": {
      "text/plain": [
       "array([\"New SARS related virus, Wuhan pneumonia, idenitified in China's mysterious pneumonia outbreak - CNN\",\n",
       "       \"China's Sars-like illness worries health experts | World news | The Guardian\"],\n",
       "      dtype=object)"
      ]
     },
     "execution_count": 8,
     "metadata": {},
     "output_type": "execute_result"
    }
   ],
   "source": [
    "df['title'].values[3:5]"
   ]
  },
  {
   "cell_type": "code",
   "execution_count": 9,
   "metadata": {},
   "outputs": [],
   "source": [
    "titles = df['title'].values"
   ]
  },
  {
   "cell_type": "code",
   "execution_count": 10,
   "metadata": {},
   "outputs": [
    {
     "data": {
      "text/plain": [
       "\"China's Sars-like illness worries health experts \""
      ]
     },
     "execution_count": 10,
     "metadata": {},
     "output_type": "execute_result"
    }
   ],
   "source": [
    "df['title'].values[4].split('|', 1)[0]"
   ]
  },
  {
   "cell_type": "code",
   "execution_count": 11,
   "metadata": {},
   "outputs": [
    {
     "data": {
      "text/plain": [
       "\"New SARS related virus, Wuhan pneumonia, idenitified in China's mysterious pneumonia outbreak - CNN\""
      ]
     },
     "execution_count": 11,
     "metadata": {},
     "output_type": "execute_result"
    }
   ],
   "source": [
    "df['title'].values[3].split('|', 1)[0]"
   ]
  },
  {
   "cell_type": "markdown",
   "metadata": {},
   "source": [
    "#### Remove punctuations in each title"
   ]
  },
  {
   "cell_type": "code",
   "execution_count": 12,
   "metadata": {},
   "outputs": [
    {
     "name": "stdout",
     "output_type": "stream",
     "text": [
      "!\"#$%&'()*+,-./:;<=>?@[\\]^_`{|}~\n"
     ]
    }
   ],
   "source": [
    "from string import punctuation\n",
    "print(punctuation)"
   ]
  },
  {
   "cell_type": "code",
   "execution_count": 13,
   "metadata": {},
   "outputs": [],
   "source": [
    "all_titles = [i.split('|', 1)[0] for i in titles]"
   ]
  },
  {
   "cell_type": "code",
   "execution_count": 14,
   "metadata": {},
   "outputs": [],
   "source": [
    "all_titles = [''.join([c for c in i if c not in punctuation]) for i in all_titles]"
   ]
  },
  {
   "cell_type": "code",
   "execution_count": 15,
   "metadata": {},
   "outputs": [],
   "source": [
    "all_titles = [i.lower() for i in all_titles]"
   ]
  },
  {
   "cell_type": "code",
   "execution_count": 16,
   "metadata": {},
   "outputs": [
    {
     "data": {
      "text/plain": [
       "['new sars related virus wuhan pneumonia idenitified in chinas mysterious pneumonia outbreak  cnn',\n",
       " 'chinas sarslike illness worries health experts ']"
      ]
     },
     "execution_count": 16,
     "metadata": {},
     "output_type": "execute_result"
    }
   ],
   "source": [
    "all_titles[3:5]"
   ]
  },
  {
   "cell_type": "code",
   "execution_count": 17,
   "metadata": {},
   "outputs": [],
   "source": [
    "all_one_titles = \" \".join(all_titles)"
   ]
  },
  {
   "cell_type": "markdown",
   "metadata": {},
   "source": [
    "#### Remove stopwords and domain names"
   ]
  },
  {
   "cell_type": "code",
   "execution_count": 18,
   "metadata": {},
   "outputs": [],
   "source": [
    "titles_tokens = all_one_titles.split()"
   ]
  },
  {
   "cell_type": "code",
   "execution_count": 19,
   "metadata": {},
   "outputs": [],
   "source": [
    "domain_names = list(set(df['domain'].values))\n"
   ]
  },
  {
   "cell_type": "code",
   "execution_count": 20,
   "metadata": {},
   "outputs": [],
   "source": [
    "clean_tokens = list()\n",
    "sw = stopwords.words('english')\n",
    "other_trash = [\"news\", \"new\", 'update', 'cnnpolitics', 'could', 'may']\n",
    "trash_tokens = sw + domain_names + other_trash\n",
    "for token in titles_tokens:\n",
    "    if token not in trash_tokens:\n",
    "        clean_tokens.append(token)"
   ]
  },
  {
   "cell_type": "code",
   "execution_count": 21,
   "metadata": {},
   "outputs": [
    {
     "data": {
      "text/plain": [
       "FreqDist({'coronavirus': 23465, 'us': 3597, 'covid19': 3462, 'uk': 2409, 'says': 2256, 'virus': 1983, 'amid': 1950, 'pandemic': 1750, 'china': 1710, 'lockdown': 1661, ...})"
      ]
     },
     "execution_count": 21,
     "metadata": {},
     "output_type": "execute_result"
    }
   ],
   "source": [
    "freq = nltk.FreqDist(clean_tokens)\n",
    "freq"
   ]
  },
  {
   "cell_type": "code",
   "execution_count": 22,
   "metadata": {},
   "outputs": [],
   "source": [
    "freq_dict = {} \n",
    "test_values = list(freq.values())\n",
    "for key in list(freq.keys()): \n",
    "    for value in test_values: \n",
    "        freq_dict[key] = value \n",
    "        test_values.remove(value) \n",
    "        break  "
   ]
  },
  {
   "cell_type": "code",
   "execution_count": 23,
   "metadata": {},
   "outputs": [],
   "source": [
    "from collections import Counter"
   ]
  },
  {
   "cell_type": "code",
   "execution_count": 24,
   "metadata": {},
   "outputs": [
    {
     "data": {
      "text/plain": [
       "{'coronavirus': 23465,\n",
       " 'us': 3597,\n",
       " 'covid19': 3462,\n",
       " 'uk': 2409,\n",
       " 'says': 2256,\n",
       " 'virus': 1983,\n",
       " 'amid': 1950,\n",
       " 'pandemic': 1750,\n",
       " 'china': 1710,\n",
       " 'lockdown': 1661,\n",
       " 'crisis': 1620,\n",
       " 'trump': 1604,\n",
       " 'oil': 1481,\n",
       " 'outbreak': 1457,\n",
       " 'cases': 1207,\n",
       " '2020': 1193,\n",
       " 'fears': 1132,\n",
       " 'health': 1073,\n",
       " 'home': 1057,\n",
       " 'due': 970,\n",
       " 'global': 965,\n",
       " 'stocks': 946,\n",
       " 'help': 938,\n",
       " 'man': 925,\n",
       " 'market': 908,\n",
       " 'first': 823,\n",
       " 'latest': 815,\n",
       " 'announces': 813,\n",
       " 'hit': 753,\n",
       " 'death': 744}"
      ]
     },
     "execution_count": 24,
     "metadata": {},
     "output_type": "execute_result"
    }
   ],
   "source": [
    "plot_dict = dict(Counter(freq_dict).most_common(30))\n",
    "dict(Counter(freq_dict).most_common(30))"
   ]
  },
  {
   "cell_type": "code",
   "execution_count": 25,
   "metadata": {},
   "outputs": [],
   "source": [
    "from matplotlib.pyplot import figure"
   ]
  },
  {
   "cell_type": "code",
   "execution_count": 26,
   "metadata": {},
   "outputs": [
    {
     "data": {
      "image/png": "[encoded data removed]",
      "text/plain": [
       "<Figure size 800x480 with 1 Axes>"
      ]
     },
     "metadata": {},
     "output_type": "display_data"
    }
   ],
   "source": [
    "figure(num=None, figsize=(10, 6), dpi=80, facecolor='w', edgecolor='k')\n",
    "plt.bar(list(plot_dict.keys())[1:], list(plot_dict.values())[1:], color='lightblue')\n",
    "plt.xticks(rotation=90)\n",
    "plt.show()"
   ]
  },
  {
   "cell_type": "code",
   "execution_count": null,
   "metadata": {},
   "outputs": [],
   "source": []
  },
  {
   "cell_type": "markdown",
   "metadata": {},
   "source": [
    "#### see the trend in a rolling time window"
   ]
  },
  {
   "cell_type": "code",
   "execution_count": 27,
   "metadata": {},
   "outputs": [],
   "source": [
    "df['date'] = pd.to_datetime(df['date'])"
   ]
  },
  {
   "cell_type": "code",
   "execution_count": 28,
   "metadata": {},
   "outputs": [],
   "source": [
    "import datetime\n",
    "from datetime import timedelta "
   ]
  },
  {
   "cell_type": "code",
   "execution_count": 29,
   "metadata": {},
   "outputs": [
    {
     "data": {
      "text/plain": [
       "[datetime.datetime(2020, 1, 22, 0, 0),\n",
       " datetime.datetime(2020, 2, 5, 0, 0),\n",
       " datetime.datetime(2020, 2, 19, 0, 0),\n",
       " datetime.datetime(2020, 3, 4, 0, 0),\n",
       " datetime.datetime(2020, 3, 18, 0, 0),\n",
       " datetime.datetime(2020, 4, 1, 0, 0),\n",
       " datetime.datetime(2020, 4, 15, 0, 0),\n",
       " datetime.datetime(2020, 4, 29, 0, 0)]"
      ]
     },
     "execution_count": 29,
     "metadata": {},
     "output_type": "execute_result"
    }
   ],
   "source": [
    "d1 = datetime.datetime(2020, 1, 8) + timedelta(days=14) \n",
    "time_points = [d1]\n",
    "d_temp = d1\n",
    "for i in range(7):\n",
    "    d_temp = d_temp + timedelta(days = 14)\n",
    "    time_points.append(d_temp)\n",
    "time_points"
   ]
  },
  {
   "cell_type": "code",
   "execution_count": 30,
   "metadata": {},
   "outputs": [
    {
     "data": {
      "text/plain": [
       "[0, 83, 1676, 3860, 7445, 17728, 35003, 47692, 52341]"
      ]
     },
     "execution_count": 30,
     "metadata": {},
     "output_type": "execute_result"
    }
   ],
   "source": [
    "time_points_index = [0]\n",
    "for i in time_points[:7]:\n",
    "    time_points_index.append(df[df['date']==i].index[0])\n",
    "time_points_index.append(df.shape[0])\n",
    "time_points_index"
   ]
  },
  {
   "cell_type": "code",
   "execution_count": 31,
   "metadata": {},
   "outputs": [],
   "source": [
    "china_count = []\n",
    "china_percentage = []\n",
    "for i in range(7):\n",
    "    ls_temp = all_titles[time_points_index[i]:time_points_index[i+1]]\n",
    "    count_temp = sum(['china' in i for i in ls_temp])\n",
    "    china_count.append(count_temp)\n",
    "    china_percentage.append(count_temp/(time_points_index[i+1] - time_points_index[i]))"
   ]
  },
  {
   "cell_type": "code",
   "execution_count": 32,
   "metadata": {},
   "outputs": [],
   "source": [
    "fear_count = []\n",
    "fear_percentage = []\n",
    "for i in range(7):\n",
    "    ls_temp = all_titles[time_points_index[i]:time_points_index[i+1]]\n",
    "    count_temp = sum(['fear' in i for i in ls_temp])\n",
    "    fear_count.append(count_temp)\n",
    "    fear_percentage.append(count_temp/(time_points_index[i+1] - time_points_index[i]))"
   ]
  },
  {
   "cell_type": "code",
   "execution_count": 33,
   "metadata": {},
   "outputs": [],
   "source": [
    "top_tokens = [Counter(freq_dict).most_common(30)[i][0] for i in range(0, 15)]"
   ]
  },
  {
   "cell_type": "code",
   "execution_count": 34,
   "metadata": {},
   "outputs": [
    {
     "data": {
      "text/plain": [
       "['us',\n",
       " 'covid19',\n",
       " 'uk',\n",
       " 'says',\n",
       " 'virus',\n",
       " 'amid',\n",
       " 'pandemic',\n",
       " 'china',\n",
       " 'lockdown',\n",
       " 'crisis',\n",
       " 'trump',\n",
       " 'oil',\n",
       " 'outbreak',\n",
       " 'cases',\n",
       " '2020',\n",
       " 'fears',\n",
       " 'health',\n",
       " 'home',\n",
       " 'due',\n",
       " 'global',\n",
       " 'stocks',\n",
       " 'help',\n",
       " 'man',\n",
       " 'market',\n",
       " 'first',\n",
       " 'latest',\n",
       " 'announces',\n",
       " 'hit',\n",
       " 'death']"
      ]
     },
     "execution_count": 34,
     "metadata": {},
     "output_type": "execute_result"
    }
   ],
   "source": [
    "[Counter(freq_dict).most_common(30)[i][0] for i in range(1, 30)]"
   ]
  },
  {
   "cell_type": "code",
   "execution_count": 35,
   "metadata": {},
   "outputs": [],
   "source": [
    "df_token_trend = pd.DataFrame({'date':['01-08 ~ 01-21', '01-22 ~ 02-05', '02-06 ~ 02-19', '02-20 ~ 03-04', \n",
    "                      '03-05 ~ 03-18', '03-19 ~ 04-01', '04-02 ~ 04-15', '04-16 ~ 04-21']})\n",
    "for t in top_tokens:\n",
    "    token_count = []\n",
    "    token_percentage = []\n",
    "    for i in range(8):\n",
    "        ls_temp = all_titles[time_points_index[i]:time_points_index[i+1]]\n",
    "        count_temp = sum([t in j for j in ls_temp])\n",
    "        token_count.append(count_temp)\n",
    "        token_percentage.append(count_temp/(time_points_index[i+1] - time_points_index[i]))\n",
    "    df_token_trend[t] = token_percentage"
   ]
  },
  {
   "cell_type": "code",
   "execution_count": 36,
   "metadata": {},
   "outputs": [
    {
     "data": {
      "text/html": [
       "<div>\n",
       "<style scoped>\n",
       "    .dataframe tbody tr th:only-of-type {\n",
       "        vertical-align: middle;\n",
       "    }\n",
       "\n",
       "    .dataframe tbody tr th {\n",
       "        vertical-align: top;\n",
       "    }\n",
       "\n",
       "    .dataframe thead th {\n",
       "        text-align: right;\n",
       "    }\n",
       "</style>\n",
       "<table border=\"1\" class=\"dataframe\">\n",
       "  <thead>\n",
       "    <tr style=\"text-align: right;\">\n",
       "      <th></th>\n",
       "      <th>date</th>\n",
       "      <th>coronavirus</th>\n",
       "      <th>us</th>\n",
       "      <th>covid19</th>\n",
       "      <th>uk</th>\n",
       "      <th>says</th>\n",
       "      <th>virus</th>\n",
       "      <th>amid</th>\n",
       "      <th>pandemic</th>\n",
       "      <th>china</th>\n",
       "      <th>lockdown</th>\n",
       "      <th>crisis</th>\n",
       "      <th>trump</th>\n",
       "      <th>oil</th>\n",
       "      <th>outbreak</th>\n",
       "      <th>cases</th>\n",
       "    </tr>\n",
       "  </thead>\n",
       "  <tbody>\n",
       "    <tr>\n",
       "      <th>0</th>\n",
       "      <td>01-08 ~ 01-21</td>\n",
       "      <td>0.590361</td>\n",
       "      <td>0.795181</td>\n",
       "      <td>0.012048</td>\n",
       "      <td>0.000000</td>\n",
       "      <td>0.108434</td>\n",
       "      <td>0.795181</td>\n",
       "      <td>0.048193</td>\n",
       "      <td>0.024096</td>\n",
       "      <td>0.481928</td>\n",
       "      <td>0.000000</td>\n",
       "      <td>0.012048</td>\n",
       "      <td>0.012048</td>\n",
       "      <td>0.000000</td>\n",
       "      <td>0.132530</td>\n",
       "      <td>0.096386</td>\n",
       "    </tr>\n",
       "    <tr>\n",
       "      <th>1</th>\n",
       "      <td>01-22 ~ 02-05</td>\n",
       "      <td>0.581293</td>\n",
       "      <td>0.767734</td>\n",
       "      <td>0.000000</td>\n",
       "      <td>0.041431</td>\n",
       "      <td>0.040176</td>\n",
       "      <td>0.708098</td>\n",
       "      <td>0.032015</td>\n",
       "      <td>0.011299</td>\n",
       "      <td>0.269931</td>\n",
       "      <td>0.011299</td>\n",
       "      <td>0.016949</td>\n",
       "      <td>0.016321</td>\n",
       "      <td>0.066541</td>\n",
       "      <td>0.103578</td>\n",
       "      <td>0.025110</td>\n",
       "    </tr>\n",
       "    <tr>\n",
       "      <th>2</th>\n",
       "      <td>02-06 ~ 02-19</td>\n",
       "      <td>0.570055</td>\n",
       "      <td>0.716575</td>\n",
       "      <td>0.002747</td>\n",
       "      <td>0.046703</td>\n",
       "      <td>0.045330</td>\n",
       "      <td>0.643773</td>\n",
       "      <td>0.033883</td>\n",
       "      <td>0.006410</td>\n",
       "      <td>0.186813</td>\n",
       "      <td>0.005037</td>\n",
       "      <td>0.014194</td>\n",
       "      <td>0.016484</td>\n",
       "      <td>0.066850</td>\n",
       "      <td>0.067308</td>\n",
       "      <td>0.045330</td>\n",
       "    </tr>\n",
       "    <tr>\n",
       "      <th>3</th>\n",
       "      <td>02-20 ~ 03-04</td>\n",
       "      <td>0.561506</td>\n",
       "      <td>0.697071</td>\n",
       "      <td>0.022873</td>\n",
       "      <td>0.038215</td>\n",
       "      <td>0.053556</td>\n",
       "      <td>0.615621</td>\n",
       "      <td>0.036541</td>\n",
       "      <td>0.030126</td>\n",
       "      <td>0.080335</td>\n",
       "      <td>0.005300</td>\n",
       "      <td>0.016736</td>\n",
       "      <td>0.033194</td>\n",
       "      <td>0.031799</td>\n",
       "      <td>0.061925</td>\n",
       "      <td>0.037936</td>\n",
       "    </tr>\n",
       "    <tr>\n",
       "      <th>4</th>\n",
       "      <td>03-05 ~ 03-18</td>\n",
       "      <td>0.512594</td>\n",
       "      <td>0.655645</td>\n",
       "      <td>0.062725</td>\n",
       "      <td>0.048332</td>\n",
       "      <td>0.039580</td>\n",
       "      <td>0.545950</td>\n",
       "      <td>0.043859</td>\n",
       "      <td>0.028202</td>\n",
       "      <td>0.029758</td>\n",
       "      <td>0.012253</td>\n",
       "      <td>0.024409</td>\n",
       "      <td>0.044345</td>\n",
       "      <td>0.047943</td>\n",
       "      <td>0.039677</td>\n",
       "      <td>0.020130</td>\n",
       "    </tr>\n",
       "    <tr>\n",
       "      <th>5</th>\n",
       "      <td>03-19 ~ 04-01</td>\n",
       "      <td>0.430507</td>\n",
       "      <td>0.593111</td>\n",
       "      <td>0.100376</td>\n",
       "      <td>0.049493</td>\n",
       "      <td>0.037858</td>\n",
       "      <td>0.452562</td>\n",
       "      <td>0.041679</td>\n",
       "      <td>0.039711</td>\n",
       "      <td>0.019682</td>\n",
       "      <td>0.038900</td>\n",
       "      <td>0.039653</td>\n",
       "      <td>0.030217</td>\n",
       "      <td>0.021766</td>\n",
       "      <td>0.020145</td>\n",
       "      <td>0.021071</td>\n",
       "    </tr>\n",
       "    <tr>\n",
       "      <th>6</th>\n",
       "      <td>04-02 ~ 04-15</td>\n",
       "      <td>0.393412</td>\n",
       "      <td>0.547640</td>\n",
       "      <td>0.057924</td>\n",
       "      <td>0.054614</td>\n",
       "      <td>0.047049</td>\n",
       "      <td>0.413035</td>\n",
       "      <td>0.034045</td>\n",
       "      <td>0.040902</td>\n",
       "      <td>0.024194</td>\n",
       "      <td>0.049255</td>\n",
       "      <td>0.035070</td>\n",
       "      <td>0.043345</td>\n",
       "      <td>0.034755</td>\n",
       "      <td>0.012373</td>\n",
       "      <td>0.020333</td>\n",
       "    </tr>\n",
       "    <tr>\n",
       "      <th>7</th>\n",
       "      <td>04-16 ~ 04-21</td>\n",
       "      <td>0.332760</td>\n",
       "      <td>0.506130</td>\n",
       "      <td>0.063455</td>\n",
       "      <td>0.060013</td>\n",
       "      <td>0.050333</td>\n",
       "      <td>0.349753</td>\n",
       "      <td>0.026672</td>\n",
       "      <td>0.038503</td>\n",
       "      <td>0.032265</td>\n",
       "      <td>0.057002</td>\n",
       "      <td>0.027748</td>\n",
       "      <td>0.054420</td>\n",
       "      <td>0.029684</td>\n",
       "      <td>0.010755</td>\n",
       "      <td>0.018714</td>\n",
       "    </tr>\n",
       "  </tbody>\n",
       "</table>\n",
       "</div>"
      ],
      "text/plain": [
       "            date  coronavirus        us   covid19        uk      says  \\\n",
       "0  01-08 ~ 01-21     0.590361  0.795181  0.012048  0.000000  0.108434   \n",
       "1  01-22 ~ 02-05     0.581293  0.767734  0.000000  0.041431  0.040176   \n",
       "2  02-06 ~ 02-19     0.570055  0.716575  0.002747  0.046703  0.045330   \n",
       "3  02-20 ~ 03-04     0.561506  0.697071  0.022873  0.038215  0.053556   \n",
       "4  03-05 ~ 03-18     0.512594  0.655645  0.062725  0.048332  0.039580   \n",
       "5  03-19 ~ 04-01     0.430507  0.593111  0.100376  0.049493  0.037858   \n",
       "6  04-02 ~ 04-15     0.393412  0.547640  0.057924  0.054614  0.047049   \n",
       "7  04-16 ~ 04-21     0.332760  0.506130  0.063455  0.060013  0.050333   \n",
       "\n",
       "      virus      amid  pandemic     china  lockdown    crisis     trump  \\\n",
       "0  0.795181  0.048193  0.024096  0.481928  0.000000  0.012048  0.012048   \n",
       "1  0.708098  0.032015  0.011299  0.269931  0.011299  0.016949  0.016321   \n",
       "2  0.643773  0.033883  0.006410  0.186813  0.005037  0.014194  0.016484   \n",
       "3  0.615621  0.036541  0.030126  0.080335  0.005300  0.016736  0.033194   \n",
       "4  0.545950  0.043859  0.028202  0.029758  0.012253  0.024409  0.044345   \n",
       "5  0.452562  0.041679  0.039711  0.019682  0.038900  0.039653  0.030217   \n",
       "6  0.413035  0.034045  0.040902  0.024194  0.049255  0.035070  0.043345   \n",
       "7  0.349753  0.026672  0.038503  0.032265  0.057002  0.027748  0.054420   \n",
       "\n",
       "        oil  outbreak     cases  \n",
       "0  0.000000  0.132530  0.096386  \n",
       "1  0.066541  0.103578  0.025110  \n",
       "2  0.066850  0.067308  0.045330  \n",
       "3  0.031799  0.061925  0.037936  \n",
       "4  0.047943  0.039677  0.020130  \n",
       "5  0.021766  0.020145  0.021071  \n",
       "6  0.034755  0.012373  0.020333  \n",
       "7  0.029684  0.010755  0.018714  "
      ]
     },
     "execution_count": 36,
     "metadata": {},
     "output_type": "execute_result"
    }
   ],
   "source": [
    "df_token_trend"
   ]
  },
  {
   "cell_type": "code",
   "execution_count": 37,
   "metadata": {},
   "outputs": [
    {
     "data": {
      "text/plain": [
       "Text(0, 0.5, 'Percentage')"
      ]
     },
     "execution_count": 37,
     "metadata": {},
     "output_type": "execute_result"
    },
    {
     "data": {
      "image/png": "[encoded data removed]",
      "text/plain": [
       "<Figure size 864x432 with 1 Axes>"
      ]
     },
     "metadata": {
      "needs_background": "light"
     },
     "output_type": "display_data"
    }
   ],
   "source": [
    "plt.figure(figsize = (12,6))\n",
    "palette = plt.get_cmap('Set1')\n",
    " \n",
    "# multiple line plot\n",
    "num=0\n",
    "for column in df_token_trend.drop('date', axis=1):\n",
    "    num+=1\n",
    "    plt.plot(df_token_trend['date'], df_token_trend[column], marker='', \n",
    "             color=palette(num), linewidth=1, alpha=0.9, label=column)\n",
    "    \n",
    "plt.legend(loc=2, ncol=2)\n",
    " \n",
    "# titles\n",
    "plt.title(\"top word trend plot\", loc='left', fontsize=12, fontweight=0, color='orange')\n",
    "plt.xlabel(\"Time\")\n",
    "plt.ylabel(\"Percentage\")"
   ]
  },
  {
   "cell_type": "code",
   "execution_count": 38,
   "metadata": {},
   "outputs": [
    {
     "data": {
      "text/plain": [
       "Text(0, 0.5, 'Percentage')"
      ]
     },
     "execution_count": 38,
     "metadata": {},
     "output_type": "execute_result"
    },
    {
     "data": {
      "image/png": "[encoded data removed]",
      "text/plain": [
       "<Figure size 864x432 with 1 Axes>"
      ]
     },
     "metadata": {
      "needs_background": "light"
     },
     "output_type": "display_data"
    }
   ],
   "source": [
    "plt.figure(figsize = (12,6))\n",
    "palette = plt.get_cmap('Set1')\n",
    " \n",
    "# multiple line plot\n",
    "num=0\n",
    "for column in df_token_trend.drop(['date', 'us','uk','china','virus','says','coronavirus'], axis=1):\n",
    "    num+=1\n",
    "    plt.plot(df_token_trend['date'], df_token_trend[column], marker='', \n",
    "             color=palette(num), linewidth=1, alpha=0.9, label=column)\n",
    "    \n",
    "plt.legend(loc=2, ncol=2)\n",
    " \n",
    "# titles\n",
    "plt.title(\"top word trend plot\", loc='left', fontsize=12, fontweight=0, color='orange')\n",
    "plt.xlabel(\"Time\")\n",
    "plt.ylabel(\"Percentage\")"
   ]
  },
  {
   "cell_type": "markdown",
   "metadata": {},
   "source": [
    "#### Random thoughts"
   ]
  },
  {
   "cell_type": "markdown",
   "metadata": {},
   "source": [
    "##### pie charts of categories"
   ]
  },
  {
   "cell_type": "code",
   "execution_count": 39,
   "metadata": {},
   "outputs": [
    {
     "data": {
      "text/plain": [
       "{'business', 'finance', 'general', 'medical', 'science', 'tech'}"
      ]
     },
     "execution_count": 39,
     "metadata": {},
     "output_type": "execute_result"
    }
   ],
   "source": [
    "set(df['topic_area'])"
   ]
  },
  {
   "cell_type": "code",
   "execution_count": 40,
   "metadata": {},
   "outputs": [
    {
     "data": {
      "text/plain": [
       "[('general', 26240),\n",
       " ('finance', 12338),\n",
       " ('business', 10639),\n",
       " ('tech', 2601),\n",
       " ('science', 507),\n",
       " ('medical', 16)]"
      ]
     },
     "execution_count": 40,
     "metadata": {},
     "output_type": "execute_result"
    }
   ],
   "source": [
    "Counter(df['topic_area']).most_common(6)"
   ]
  },
  {
   "cell_type": "code",
   "execution_count": 41,
   "metadata": {
    "scrolled": true
   },
   "outputs": [
    {
     "data": {
      "text/plain": [
       "['general', 'finance', 'business', 'tech', 'science', 'medical']"
      ]
     },
     "execution_count": 41,
     "metadata": {},
     "output_type": "execute_result"
    }
   ],
   "source": [
    "[i[0] for i in Counter(df['topic_area']).most_common(6)]"
   ]
  },
  {
   "cell_type": "code",
   "execution_count": 42,
   "metadata": {},
   "outputs": [],
   "source": [
    "topics_count = [i[1] for i in Counter(df['topic_area']).most_common(6)]\n",
    "topics = [i[0] for i in Counter(df['topic_area']).most_common(6)]"
   ]
  },
  {
   "cell_type": "code",
   "execution_count": 43,
   "metadata": {},
   "outputs": [
    {
     "data": {
      "text/plain": [
       "<matplotlib.legend.Legend at 0x2258b32bba8>"
      ]
     },
     "execution_count": 43,
     "metadata": {},
     "output_type": "execute_result"
    },
    {
     "data": {
      "image/png": "[encoded data removed]",
      "text/plain": [
       "<Figure size 864x432 with 1 Axes>"
      ]
     },
     "metadata": {},
     "output_type": "display_data"
    }
   ],
   "source": [
    "plt.figure(figsize = (12,6))\n",
    "colors = ['lightskyblue','gold','yellowgreen','violet','red','lightcoral']\n",
    "percent = [100 * i / df.shape[0] for i in topics_count]\n",
    "\n",
    "patches, texts = plt.pie(topics_count, colors=colors, startangle=90, radius=1.2)\n",
    "labels = ['{0} - {1:1.2f} %'.format(i,j) for i,j in zip(topics, percent)]\n",
    "\n",
    "\n",
    "patches, labels, dummy =  zip(*sorted(zip(patches, labels, topics_count), key=lambda x: x[2], reverse=True))\n",
    "\n",
    "plt.legend(patches, labels, loc='center left', bbox_to_anchor=(-0.1, 1.), fontsize=8)"
   ]
  },
  {
   "cell_type": "code",
   "execution_count": null,
   "metadata": {},
   "outputs": [],
   "source": []
  }
 ],
 "metadata": {
  "kernelspec": {
   "display_name": "Python 3",
   "language": "python",
   "name": "python3"
  },
  "language_info": {
   "codemirror_mode": {
    "name": "ipython",
    "version": 3
   },
   "file_extension": ".py",
   "mimetype": "text/x-python",
   "name": "python",
   "nbconvert_exporter": "python",
   "pygments_lexer": "ipython3",
   "version": "3.7.1"
  }
 },
 "nbformat": 4,
 "nbformat_minor": 4
}
